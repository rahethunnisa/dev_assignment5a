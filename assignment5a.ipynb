{
 "cells": [
  {
   "cell_type": "code",
   "execution_count": 4,
   "id": "39243d3a",
   "metadata": {},
   "outputs": [
    {
     "data": {
      "text/plain": [
       "{'family_members': ['hannu',\n",
       "  'shamshad',\n",
       "  'mobeena',\n",
       "  'ashiya',\n",
       "  'chinnammi',\n",
       "  'ayan',\n",
       "  'farhathunnisa',\n",
       "  'jasmine',\n",
       "  'faizulla',\n",
       "  'riyazulla']}"
      ]
     },
     "execution_count": 4,
     "metadata": {},
     "output_type": "execute_result"
    }
   ],
   "source": [
    "dict={\"family_members\" :[\"hannu\",\"shamshad\",\"mobeena\",\"ashiya\",\"chinnammi\",\"ayan\",\"farhathunnisa\",\"jasmine\",\"faizulla\",\"riyazulla\"]}\n",
    "dict"
   ]
  },
  {
   "cell_type": "code",
   "execution_count": 8,
   "id": "421e4b58",
   "metadata": {},
   "outputs": [
    {
     "name": "stdout",
     "output_type": "stream",
     "text": [
      "hannu\n",
      "favorite family member name shamshad\n"
     ]
    }
   ],
   "source": [
    "dict={\"familymembers\":[\"hannu\",\"shamshad\",\"mobeena\",\"ashiya\",\"chinnammi\",\"ayan\",\"farhathunnisa\",\"jasmine\",\"faizulla\",\"riyazulla\"],\"relations\":[\"father\",\"mother\",\"sister1\",\"sister2\",\"soninlaw\",\"daughterinlaw\",\"cousin1\",\"cousin2\",\"cousin3\"]}\n",
    "print(dict[\"familymembers\"][0])\n",
    "print(\"favorite family member name\",dict[\"familymembers\"][-9])\n"
   ]
  },
  {
   "cell_type": "code",
   "execution_count": 2,
   "id": "57315492",
   "metadata": {},
   "outputs": [
    {
     "name": "stdout",
     "output_type": "stream",
     "text": [
      "intelligent friend name is ram\n",
      "best friend name is ramcharan\n"
     ]
    }
   ],
   "source": [
    "dict={\"friend_names\" :[\"ram\",\"rashi\",\"tamanna\",\"akhil\",\"maheshbabu\",\"ramcharan\",\"nagachaitanya\",\"srimukhi\",\"rashmi\",\"sudheer\"],\"quality\" :[\"energetic\",\"cutiest\",\"talkative\", \"anger\", \"intelligent\", \"funny\",\"serious\",\"actor\",\"comedian\",\"silentkiller\"]}\n",
    "print(\"intelligent friend name is\",dict[\"friend_names\"][-10])\n",
    "print(\"best friend name is\",dict[\"friend_names\"][5])\n",
    "      \n",
    "      \n",
    "   \n",
    " "
   ]
  },
  {
   "cell_type": "code",
   "execution_count": 4,
   "id": "cf0909c5",
   "metadata": {},
   "outputs": [
    {
     "name": "stdout",
     "output_type": "stream",
     "text": [
      "rating 1 food name is thandoori\n",
      "rating 1 food name is tomato\n"
     ]
    }
   ],
   "source": [
    "dict={\"veg_items\":[\"carrot\",\"beetroot\",\"ladysfinger\",\"potato\",\"rawbanana\",\"tomato\",\"drumstick\",\"brinjal\",\"bittergourd\",\"beans\"],\"rating\":[1,2,3,4,5,6,7,8,9,10],\"nonveg_items\":[\"mutton\",\"chicken\",\"fish\",\"egg\",\"beef\",\"prawns\",\"crabs\",\"muttonbiryani\",\"chickenbiryani\",\"thandoori\"]}\n",
    "print(\"rating 1 food name is\",dict[\"nonveg_items\"][9])\n",
    "print(\"rating 1 food name is\",dict[\"veg_items\"][5])\n"
   ]
  },
  {
   "cell_type": "code",
   "execution_count": 6,
   "id": "bc891f48",
   "metadata": {},
   "outputs": [
    {
     "name": "stdout",
     "output_type": "stream",
     "text": [
      "rating 3 city name is bangalore\n"
     ]
    }
   ],
   "source": [
    "dict={\"destination\":[\"vizag\",\"machilipatnam\",\"goa\",\"chennai\",\"bangalore\",\"madras\",\"ooty\",\"vijayawada\",\"hyderabad\",\"guntur\"],\"ratings\":[1,2,3,4,5,6,7,8,9,10]}\n",
    "print(\"rating 3 city name is\", dict[\"destination\"][4])"
   ]
  },
  {
   "cell_type": "code",
   "execution_count": null,
   "id": "8662bccd",
   "metadata": {},
   "outputs": [],
   "source": []
  }
 ],
 "metadata": {
  "kernelspec": {
   "display_name": "Python 3 (ipykernel)",
   "language": "python",
   "name": "python3"
  },
  "language_info": {
   "codemirror_mode": {
    "name": "ipython",
    "version": 3
   },
   "file_extension": ".py",
   "mimetype": "text/x-python",
   "name": "python",
   "nbconvert_exporter": "python",
   "pygments_lexer": "ipython3",
   "version": "3.10.9"
  }
 },
 "nbformat": 4,
 "nbformat_minor": 5
}
